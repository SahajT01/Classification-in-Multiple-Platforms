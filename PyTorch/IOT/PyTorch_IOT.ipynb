{
 "cells": [
  {
   "cell_type": "code",
   "execution_count": 1,
   "id": "b76c2405-660c-4a00-bbb6-612ec3aa5883",
   "metadata": {},
   "outputs": [],
   "source": [
    "import pandas as pd\n",
    "import numpy as np\n",
    "from sklearn.preprocessing import LabelEncoder, StandardScaler\n",
    "from sklearn.model_selection import train_test_split\n",
    "import torch\n",
    "import torch.nn as nn\n",
    "import torch.optim as optim\n",
    "from torch.utils.data import DataLoader, TensorDataset, random_split\n",
    "from ucimlrepo import fetch_ucirepo\n",
    "from sklearn.metrics import accuracy_score, confusion_matrix\n",
    "import matplotlib.pyplot as plt"
   ]
  },
  {
   "cell_type": "code",
   "execution_count": 2,
   "id": "85e34897-4271-4f26-914c-9d74afa5cbcb",
   "metadata": {},
   "outputs": [],
   "source": [
    "rt_iot2022 = fetch_ucirepo(id=942)\n",
    "\n",
    "# Data\n",
    "X = rt_iot2022.data.features\n",
    "y = rt_iot2022.data.targets\n",
    "\n",
    "# Print metadata and variable information\n",
    "#print(rt_iot2022.metadata)\n",
    "#print(rt_iot2022.variables)"
   ]
  },
  {
   "cell_type": "code",
   "execution_count": 3,
   "id": "fb3a92d3-5816-4769-b92a-8c7a2c9d6460",
   "metadata": {},
   "outputs": [
    {
     "name": "stdout",
     "output_type": "stream",
     "text": [
      "    Attack_type\n",
      "0  MQTT_Publish\n",
      "1  MQTT_Publish\n",
      "2  MQTT_Publish\n",
      "3  MQTT_Publish\n",
      "4  MQTT_Publish\n",
      "<class 'pandas.core.frame.DataFrame'>\n"
     ]
    }
   ],
   "source": [
    "print(y.head())  # See the first few entries to understand its structure\n",
    "print(type(y))   # This should be <class 'pandas.core.series.Series'>"
   ]
  },
  {
   "cell_type": "code",
   "execution_count": 4,
   "id": "c07e7708-a5d9-4f71-bd5a-991bd3ab1e7c",
   "metadata": {},
   "outputs": [
    {
     "name": "stdout",
     "output_type": "stream",
     "text": [
      "   id.orig_p  id.resp_p proto service  flow_duration  fwd_pkts_tot  \\\n",
      "0      38667       1883   tcp    mqtt      32.011598             9   \n",
      "1      51143       1883   tcp    mqtt      31.883584             9   \n",
      "2      44761       1883   tcp    mqtt      32.124053             9   \n",
      "3      60893       1883   tcp    mqtt      31.961063             9   \n",
      "4      51087       1883   tcp    mqtt      31.902362             9   \n",
      "\n",
      "   bwd_pkts_tot  fwd_data_pkts_tot  bwd_data_pkts_tot  fwd_pkts_per_sec  ...  \\\n",
      "0             5                  3                  3          0.281148  ...   \n",
      "1             5                  3                  3          0.282277  ...   \n",
      "2             5                  3                  3          0.280164  ...   \n",
      "3             5                  3                  3          0.281593  ...   \n",
      "4             5                  3                  3          0.282111  ...   \n",
      "\n",
      "   active.std     idle.min     idle.max     idle.tot     idle.avg  idle.std  \\\n",
      "0         0.0  29729182.96  29729182.96  29729182.96  29729182.96       0.0   \n",
      "1         0.0  29855277.06  29855277.06  29855277.06  29855277.06       0.0   \n",
      "2         0.0  29842149.02  29842149.02  29842149.02  29842149.02       0.0   \n",
      "3         0.0  29913774.97  29913774.97  29913774.97  29913774.97       0.0   \n",
      "4         0.0  29814704.90  29814704.90  29814704.90  29814704.90       0.0   \n",
      "\n",
      "   fwd_init_window_size  bwd_init_window_size  fwd_last_window_size  \\\n",
      "0                 64240                 26847                   502   \n",
      "1                 64240                 26847                   502   \n",
      "2                 64240                 26847                   502   \n",
      "3                 64240                 26847                   502   \n",
      "4                 64240                 26847                   502   \n",
      "\n",
      "    Attack_type  \n",
      "0  MQTT_Publish  \n",
      "1  MQTT_Publish  \n",
      "2  MQTT_Publish  \n",
      "3  MQTT_Publish  \n",
      "4  MQTT_Publish  \n",
      "\n",
      "[5 rows x 84 columns]\n"
     ]
    }
   ],
   "source": [
    "df = pd.concat([X, y], axis=1)  # Make sure y is a Series or adjust accordingly\n",
    "\n",
    "# Check the first few rows of the dataframe\n",
    "print(df.head())\n",
    "\n",
    "# Encoder for the 'Attack_type' column\n",
    "encoder = LabelEncoder()\n",
    "df['Attack_type'] = encoder.fit_transform(df['Attack_type'])\n",
    "\n",
    "# List of feature columns: assuming 'Attack_type' is now the last column\n",
    "feature_columns = df.columns[:-1]  # All columns except the last one"
   ]
  },
  {
   "cell_type": "code",
   "execution_count": 5,
   "id": "89fa2faf-9669-4d6b-92e8-84aecf2711e1",
   "metadata": {},
   "outputs": [],
   "source": [
    "# Assuming df is your DataFrame containing both features and the target column\n",
    "# Identify categorical columns - this might need to be adjusted based on actual data inspection\n",
    "categorical_cols = [col for col in df.columns if df[col].dtype == 'object' and col != 'Attack_type']\n",
    "df = pd.get_dummies(df, columns=categorical_cols)\n",
    "\n",
    "# Encode labels\n",
    "encoder = LabelEncoder()\n",
    "df['Attack_type'] = encoder.fit_transform(df['Attack_type'])\n",
    "\n",
    "# Split into features and labels\n",
    "X = df.drop('Attack_type', axis=1).values\n",
    "y = df['Attack_type'].values\n",
    "\n",
    "# Scale the features\n",
    "scaler = StandardScaler()\n",
    "X_scaled = scaler.fit_transform(X)"
   ]
  },
  {
   "cell_type": "code",
   "execution_count": 6,
   "id": "d6f5a9f4-7215-482e-a033-495f2301aefb",
   "metadata": {},
   "outputs": [],
   "source": [
    "# Convert to tensors\n",
    "X_tensor = torch.tensor(X_scaled.astype(np.float32))\n",
    "y_tensor = torch.tensor(y.astype(np.int64))\n",
    "\n",
    "# Create TensorDataset\n",
    "dataset = TensorDataset(X_tensor, y_tensor)\n",
    "\n",
    "# Split dataset\n",
    "num_total = len(dataset)\n",
    "num_train = int(num_total * 0.7)\n",
    "num_valid = int(num_total * 0.15)\n",
    "num_test = num_total - num_train - num_valid\n",
    "\n",
    "train_dataset, valid_dataset, test_dataset = random_split(dataset, [num_train, num_valid, num_test])\n",
    "\n",
    "# DataLoaders\n",
    "batch_size = 64\n",
    "train_loader = DataLoader(train_dataset, batch_size=batch_size, shuffle=True)\n",
    "valid_loader = DataLoader(valid_dataset, batch_size=batch_size, shuffle=False)\n",
    "test_loader = DataLoader(test_dataset, batch_size=batch_size, shuffle=False)"
   ]
  },
  {
   "cell_type": "code",
   "execution_count": 7,
   "id": "881f2dda-fc0c-4d27-9b4e-d81ec5e36f5a",
   "metadata": {},
   "outputs": [],
   "source": [
    "class IOTClassifier(nn.Module):\n",
    "    def __init__(self, num_features, num_classes):\n",
    "        super(IOTClassifier, self).__init__()\n",
    "        self.network = nn.Sequential(\n",
    "            # First hidden layer\n",
    "            nn.Linear(num_features, 512),\n",
    "            nn.ReLU(),\n",
    "            nn.BatchNorm1d(512),\n",
    "            nn.Dropout(0.3),\n",
    "\n",
    "            # Second hidden layer\n",
    "            nn.Linear(512, 256),\n",
    "            nn.ReLU(),\n",
    "            nn.BatchNorm1d(256),\n",
    "            nn.Dropout(0.2),\n",
    "\n",
    "            # Third hidden layer\n",
    "            nn.Linear(256, 128),\n",
    "            nn.ReLU(),\n",
    "            nn.BatchNorm1d(128),\n",
    "            nn.Dropout(0.2),\n",
    "\n",
    "            # Fourth hidden layer\n",
    "            nn.Linear(128, 64),\n",
    "            nn.ReLU(),\n",
    "            nn.BatchNorm1d(64),\n",
    "            nn.Dropout(0.1),\n",
    "\n",
    "            # Output layer\n",
    "            nn.Linear(64, num_classes)\n",
    "        )\n",
    "    \n",
    "    def forward(self, x):\n",
    "        return self.network(x)"
   ]
  },
  {
   "cell_type": "code",
   "execution_count": 8,
   "id": "64636cad-bbd4-49d0-8b42-e86bc04ca893",
   "metadata": {},
   "outputs": [],
   "source": [
    "# Determine number of features and classes\n",
    "num_features = X_tensor.shape[1]\n",
    "num_classes = len(encoder.classes_)\n",
    "\n",
    "# Device configuration\n",
    "device = torch.device(\"mps\" if torch.backends.mps.is_available() else \"cpu\")\n",
    "model = IOTClassifier(num_features, num_classes).to(device)"
   ]
  },
  {
   "cell_type": "code",
   "execution_count": 9,
   "id": "fad1f424-6b8a-4dec-be70-204aec332725",
   "metadata": {},
   "outputs": [],
   "source": [
    "# Loss and optimizer\n",
    "criterion = nn.CrossEntropyLoss()\n",
    "optimizer = optim.Adam(model.parameters(), lr=0.001)"
   ]
  },
  {
   "cell_type": "code",
   "execution_count": 10,
   "id": "96d4a6fb-c475-42ad-9a9a-307777fe0691",
   "metadata": {},
   "outputs": [
    {
     "name": "stdout",
     "output_type": "stream",
     "text": [
      "Epoch 1, Train Loss: 0.4569, Validation Loss: 0.0943\n",
      "Epoch 2, Train Loss: 0.0398, Validation Loss: 0.0269\n",
      "Epoch 3, Train Loss: 0.0221, Validation Loss: 0.0205\n",
      "Epoch 4, Train Loss: 0.0181, Validation Loss: 0.0224\n",
      "Epoch 5, Train Loss: 0.0156, Validation Loss: 0.0168\n",
      "Epoch 6, Train Loss: 0.0133, Validation Loss: 0.0180\n",
      "Epoch 7, Train Loss: 0.0124, Validation Loss: 0.0176\n",
      "Epoch 8, Train Loss: 0.0120, Validation Loss: 0.0162\n",
      "Epoch 9, Train Loss: 0.0117, Validation Loss: 0.0169\n",
      "Epoch 10, Train Loss: 0.0107, Validation Loss: 0.0170\n",
      "Epoch 11, Train Loss: 0.0110, Validation Loss: 0.0165\n",
      "Epoch 12, Train Loss: 0.0100, Validation Loss: 0.0153\n",
      "Epoch 13, Train Loss: 0.0101, Validation Loss: 0.0151\n",
      "Epoch 14, Train Loss: 0.0100, Validation Loss: 0.0157\n",
      "Epoch 15, Train Loss: 0.0094, Validation Loss: 0.0152\n",
      "Epoch 16, Train Loss: 0.0092, Validation Loss: 0.0146\n",
      "Epoch 17, Train Loss: 0.0092, Validation Loss: 0.0172\n",
      "Epoch 18, Train Loss: 0.0091, Validation Loss: 0.0159\n",
      "Epoch 19, Train Loss: 0.0090, Validation Loss: 0.0224\n",
      "Epoch 20, Train Loss: 0.0092, Validation Loss: 0.0158\n"
     ]
    }
   ],
   "source": [
    "def train_model(model, criterion, optimizer, train_loader, valid_loader, epochs=10):\n",
    "    train_losses = []\n",
    "    val_losses = []\n",
    "\n",
    "    model.train()\n",
    "    for epoch in range(epochs):\n",
    "        running_loss = 0.0\n",
    "        for inputs, labels in train_loader:\n",
    "            inputs, labels = inputs.to(device), labels.to(device)\n",
    "\n",
    "            optimizer.zero_grad()\n",
    "            outputs = model(inputs)\n",
    "            loss = criterion(outputs, labels)\n",
    "            loss.backward()\n",
    "            optimizer.step()\n",
    "\n",
    "            running_loss += loss.item() * inputs.size(0)\n",
    "        \n",
    "        epoch_loss = running_loss / len(train_loader.dataset)\n",
    "        train_losses.append(epoch_loss)\n",
    "\n",
    "        # Validation phase\n",
    "        model.eval()\n",
    "        val_loss = 0.0\n",
    "        with torch.no_grad():\n",
    "            for inputs, labels in valid_loader:\n",
    "                inputs, labels = inputs.to(device), labels.to(device)\n",
    "                outputs = model(inputs)\n",
    "                loss = criterion(outputs, labels)\n",
    "                val_loss += loss.item() * inputs.size(0)\n",
    "        \n",
    "        epoch_val_loss = val_loss / len(valid_loader.dataset)\n",
    "        val_losses.append(epoch_val_loss)\n",
    "\n",
    "        print(f'Epoch {epoch+1}, Train Loss: {epoch_loss:.4f}, Validation Loss: {epoch_val_loss:.4f}')\n",
    "\n",
    "    return train_losses, val_losses\n",
    "\n",
    "# Example usage\n",
    "num_epochs = 20\n",
    "train_losses, val_losses = train_model(model, criterion, optimizer, train_loader, valid_loader, epochs=num_epochs)"
   ]
  },
  {
   "cell_type": "code",
   "execution_count": 11,
   "id": "0e250168-ad23-49c5-9f77-8476c691e3c8",
   "metadata": {},
   "outputs": [
    {
     "name": "stdout",
     "output_type": "stream",
     "text": [
      "Model saved to ./pytorch_IOT_model.pth\n"
     ]
    }
   ],
   "source": [
    "model_path = './pytorch_IOT_model.pth'  # Define the path where you want to save the model\n",
    "torch.save(model.state_dict(), model_path)\n",
    "print(f\"Model saved to {model_path}\")"
   ]
  },
  {
   "cell_type": "code",
   "execution_count": 12,
   "id": "7b2818d8-dd7e-4ef3-93a5-0d241791fd9c",
   "metadata": {},
   "outputs": [
    {
     "name": "stdout",
     "output_type": "stream",
     "text": [
      "Test Loss: 0.0138\n",
      "Test Accuracy: 0.9958\n"
     ]
    }
   ],
   "source": [
    "def test_model(model, test_loader, criterion):\n",
    "    model.eval()  # Set the model to evaluation mode\n",
    "    \n",
    "    y_true = []\n",
    "    y_pred = []\n",
    "    test_loss = 0.0\n",
    "    total = 0\n",
    "\n",
    "    with torch.no_grad():\n",
    "        for inputs, labels in test_loader:\n",
    "            inputs, labels = inputs.to(device), labels.to(device)\n",
    "            outputs = model(inputs)\n",
    "            \n",
    "            # Calculate loss\n",
    "            loss = criterion(outputs, labels)\n",
    "            test_loss += loss.item() * inputs.size(0)\n",
    "            total += inputs.size(0)\n",
    "\n",
    "            _, predicted = torch.max(outputs.data, 1)\n",
    "            y_pred.extend(predicted.cpu().numpy())\n",
    "            y_true.extend(labels.cpu().numpy())\n",
    "    \n",
    "    test_loss /= total\n",
    "    overall_accuracy = accuracy_score(y_true, y_pred)\n",
    "    return test_loss, overall_accuracy, y_true, y_pred\n",
    "\n",
    "# Assuming your model, criterion, and test_loader have been defined and are ready to use\n",
    "test_loss, overall_accuracy, y_true, y_pred = test_model(model, test_loader, criterion)\n",
    "print(f\"Test Loss: {test_loss:.4f}\")\n",
    "print(f\"Test Accuracy: {overall_accuracy:.4f}\")"
   ]
  },
  {
   "cell_type": "code",
   "execution_count": 13,
   "id": "881038cf-3f35-4b86-b660-226033775d60",
   "metadata": {},
   "outputs": [
    {
     "name": "stdout",
     "output_type": "stream",
     "text": [
      "Accuracy of Class 0 (0): 0.9890\n",
      "Accuracy of Class 1 (1): 0.9692\n",
      "Accuracy of Class 2 (2): 1.0000\n",
      "Accuracy of Class 3 (3): 1.0000\n",
      "Accuracy of Class 4 (4): 0.7500\n",
      "Accuracy of Class 5 (5): 1.0000\n",
      "Accuracy of Class 6 (6): 1.0000\n",
      "Accuracy of Class 7 (7): 1.0000\n",
      "Accuracy of Class 8 (8): 0.9275\n",
      "Accuracy of Class 9 (9): 0.9965\n",
      "Accuracy of Class 10 (10): 0.9777\n",
      "Accuracy of Class 11 (11): 0.9375\n"
     ]
    }
   ],
   "source": [
    "def class_accuracy(y_true, y_pred, labels):\n",
    "    # Generate a confusion matrix\n",
    "    cm = confusion_matrix(y_true, y_pred, labels=labels)\n",
    "    class_accuracy = cm.diagonal() / cm.sum(axis=1)\n",
    "    return class_accuracy\n",
    "\n",
    "# Assuming labels are encoded from 0 to n_classes-1\n",
    "n_classes = len(set(y_true))  # Or however many classes you have\n",
    "class_labels = list(range(n_classes))  # Adjust if your labels are differently formatted\n",
    "\n",
    "accuracies = class_accuracy(y_true, y_pred, class_labels)\n",
    "for idx, acc in enumerate(accuracies):\n",
    "    print(f\"Accuracy of Class {idx} ({class_labels[idx]}): {acc:.4f}\")"
   ]
  },
  {
   "cell_type": "code",
   "execution_count": 14,
   "id": "b0ec3da1-5d2b-47b4-af61-5f114e76a390",
   "metadata": {},
   "outputs": [
    {
     "data": {
      "image/png": "[encoded data removed]",
      "text/plain": [
       "<Figure size 1000x500 with 1 Axes>"
      ]
     },
     "metadata": {},
     "output_type": "display_data"
    }
   ],
   "source": [
    "# Assuming train_losses and val_losses are lists containing the loss values per epoch\n",
    "epochs = range(1, len(train_losses) + 1)\n",
    "\n",
    "plt.figure(figsize=(10, 5))\n",
    "plt.plot(epochs, train_losses, label='Training Loss', marker='o')\n",
    "plt.plot(epochs, val_losses, label='Validation Loss', marker='o')\n",
    "plt.title('Training and Validation Losses Over Epochs')\n",
    "plt.xlabel('Epoch')\n",
    "plt.ylabel('Loss')\n",
    "plt.legend()\n",
    "plt.grid(True)\n",
    "plt.savefig('PyTorch_IOT_train_val_loss.svg', format='svg')  # Save as SVG\n",
    "plt.show()"
   ]
  },
  {
   "cell_type": "code",
   "execution_count": 15,
   "id": "929177cf-9329-40d6-bc23-3d00bfd78fbb",
   "metadata": {},
   "outputs": [
    {
     "data": {
      "image/png": "[encoded data removed]",
      "text/plain": [
       "<Figure size 1200x600 with 1 Axes>"
      ]
     },
     "metadata": {},
     "output_type": "display_data"
    }
   ],
   "source": [
    "class_labels = list(range(len(accuracies)))  # Update this if you have specific class names or labels\n",
    "\n",
    "plt.figure(figsize=(12, 6))\n",
    "plt.bar(class_labels, accuracies, color='skyblue')\n",
    "plt.xlabel('Class Labels')\n",
    "plt.ylabel('Accuracy')\n",
    "plt.title('Accuracy for Each Class')\n",
    "plt.xticks(ticks=class_labels, labels=class_labels)  # Set class labels as x-tick labels\n",
    "plt.grid(axis='y', linestyle='--', alpha=0.7)\n",
    "\n",
    "plt.savefig('PyTorch_IOT_class_accuracies.svg', format='svg')  # Save as SVG\n",
    "plt.show()"
   ]
  },
  {
   "cell_type": "code",
   "execution_count": null,
   "id": "a04a96f6-b067-4a03-b17f-6c5dd2d63ff2",
   "metadata": {},
   "outputs": [],
   "source": []
  }
 ],
 "metadata": {
  "kernelspec": {
   "display_name": "Python 3 (ipykernel)",
   "language": "python",
   "name": "python3"
  },
  "language_info": {
   "codemirror_mode": {
    "name": "ipython",
    "version": 3
   },
   "file_extension": ".py",
   "mimetype": "text/x-python",
   "name": "python",
   "nbconvert_exporter": "python",
   "pygments_lexer": "ipython3",
   "version": "3.11.8"
  }
 },
 "nbformat": 4,
 "nbformat_minor": 5
}
