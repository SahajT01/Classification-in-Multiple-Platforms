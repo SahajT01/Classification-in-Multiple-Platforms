{
 "cells": [
  {
   "cell_type": "code",
   "execution_count": 7,
   "id": "2a6a55f0-4ba2-45ad-9db4-4fdb30ff737e",
   "metadata": {},
   "outputs": [],
   "source": [
    "import pandas as pd\n",
    "import numpy as np\n",
    "import tensorflow as tf\n",
    "from sklearn.preprocessing import LabelEncoder, StandardScaler\n",
    "from sklearn.model_selection import train_test_split\n",
    "from tensorflow.keras.models import Sequential\n",
    "from tensorflow.keras.layers import Dense, Dropout, BatchNormalization, Activation, Input\n",
    "from tensorflow.keras.optimizers import Adam\n",
    "from tensorflow.keras.losses import SparseCategoricalCrossentropy\n",
    "from sklearn.metrics import confusion_matrix, accuracy_score\n",
    "import matplotlib.pyplot as plt\n",
    "from ucimlrepo import fetch_ucirepo"
   ]
  },
  {
   "cell_type": "code",
   "execution_count": 2,
   "id": "9960a9a7-f501-4be9-80a3-d2e8c1d08cab",
   "metadata": {},
   "outputs": [],
   "source": [
    "# Fetch the dataset\n",
    "rt_iot2022 = fetch_ucirepo(id=942)\n",
    "X = rt_iot2022.data.features\n",
    "y = rt_iot2022.data.targets"
   ]
  },
  {
   "cell_type": "code",
   "execution_count": 3,
   "id": "11e9c171-dd50-4a98-b194-6e3ca043aca6",
   "metadata": {},
   "outputs": [],
   "source": [
    "# Combine X and y into a single DataFrame\n",
    "df = pd.concat([X, y], axis=1)\n",
    "\n",
    "# Encode the 'Attack_type' column using LabelEncoder\n",
    "encoder = LabelEncoder()\n",
    "df['Attack_type'] = encoder.fit_transform(df.iloc[:, -1])\n",
    "\n",
    "# Identify categorical columns and one-hot encode them\n",
    "categorical_cols = df.select_dtypes(include=['object']).columns.tolist()\n",
    "df = pd.get_dummies(df, columns=categorical_cols)\n",
    "\n",
    "# Split the data into features and labels\n",
    "X = df.drop('Attack_type', axis=1).values\n",
    "y = df['Attack_type'].values\n",
    "\n",
    "# Scale the features\n",
    "scaler = StandardScaler()\n",
    "X_scaled = scaler.fit_transform(X)"
   ]
  },
  {
   "cell_type": "code",
   "execution_count": 4,
   "id": "cdc01f87-2952-4b6f-84f0-63581c7555e2",
   "metadata": {},
   "outputs": [],
   "source": [
    "# Split data into training, validation, and testing sets\n",
    "X_train, X_test, y_train, y_test = train_test_split(X_scaled, y, test_size=0.2, random_state=42)\n",
    "X_train, X_val, y_train, y_val = train_test_split(X_train, y_train, test_size=0.25, random_state=42)  # 0.25 * 0.8 = 0.2\n",
    "\n",
    "# Convert datasets to TensorFlow datasets\n",
    "def create_dataset(X, y, batch_size=64, shuffle=False):\n",
    "    dataset = tf.data.Dataset.from_tensor_slices((X, y))\n",
    "    if shuffle:\n",
    "        dataset = dataset.shuffle(buffer_size=1024)\n",
    "    dataset = dataset.batch(batch_size)\n",
    "    return dataset\n",
    "\n",
    "train_dataset = create_dataset(X_train, y_train, shuffle=True)\n",
    "val_dataset = create_dataset(X_val, y_val)\n",
    "test_dataset = create_dataset(X_test, y_test)"
   ]
  },
  {
   "cell_type": "code",
   "execution_count": 8,
   "id": "7d9f44a9-f188-49b5-96c5-82708764c17c",
   "metadata": {},
   "outputs": [],
   "source": [
    "def build_model(num_features, num_classes):\n",
    "    model = Sequential([\n",
    "        Input(shape=(num_features,)),  # Define the input shape explicitly\n",
    "        Dense(512, activation='relu'),\n",
    "        BatchNormalization(),\n",
    "        Dropout(0.3),\n",
    "        Dense(256, activation='relu'),\n",
    "        BatchNormalization(),\n",
    "        Dropout(0.2),\n",
    "        Dense(128, activation='relu'),\n",
    "        BatchNormalization(),\n",
    "        Dropout(0.2),\n",
    "        Dense(64, activation='relu'),\n",
    "        BatchNormalization(),\n",
    "        Dropout(0.1),\n",
    "        Dense(num_classes, activation='softmax')\n",
    "    ])\n",
    "    return model"
   ]
  },
  {
   "cell_type": "code",
   "execution_count": 9,
   "id": "73e07bcf-7cc2-4d76-bcba-d7ae9e651b1e",
   "metadata": {},
   "outputs": [
    {
     "name": "stdout",
     "output_type": "stream",
     "text": [
      "Epoch 1/20\n",
      "\u001b[1m1155/1155\u001b[0m \u001b[32m━━━━━━━━━━━━━━━━━━━━\u001b[0m\u001b[37m\u001b[0m \u001b[1m3s\u001b[0m 2ms/step - accuracy: 0.9207 - loss: 0.3132 - val_accuracy: 0.9889 - val_loss: 0.0430\n",
      "Epoch 2/20\n",
      "\u001b[1m1155/1155\u001b[0m \u001b[32m━━━━━━━━━━━━━━━━━━━━\u001b[0m\u001b[37m\u001b[0m \u001b[1m3s\u001b[0m 2ms/step - accuracy: 0.9855 - loss: 0.0451 - val_accuracy: 0.9910 - val_loss: 0.0343\n",
      "Epoch 3/20\n",
      "\u001b[1m1155/1155\u001b[0m \u001b[32m━━━━━━━━━━━━━━━━━━━━\u001b[0m\u001b[37m\u001b[0m \u001b[1m3s\u001b[0m 2ms/step - accuracy: 0.9883 - loss: 0.0368 - val_accuracy: 0.9923 - val_loss: 0.0267\n",
      "Epoch 4/20\n",
      "\u001b[1m1155/1155\u001b[0m \u001b[32m━━━━━━━━━━━━━━━━━━━━\u001b[0m\u001b[37m\u001b[0m \u001b[1m3s\u001b[0m 2ms/step - accuracy: 0.9890 - loss: 0.0369 - val_accuracy: 0.9937 - val_loss: 0.0240\n",
      "Epoch 5/20\n",
      "\u001b[1m1155/1155\u001b[0m \u001b[32m━━━━━━━━━━━━━━━━━━━━\u001b[0m\u001b[37m\u001b[0m \u001b[1m3s\u001b[0m 2ms/step - accuracy: 0.9903 - loss: 0.0308 - val_accuracy: 0.9938 - val_loss: 0.0236\n",
      "Epoch 6/20\n",
      "\u001b[1m1155/1155\u001b[0m \u001b[32m━━━━━━━━━━━━━━━━━━━━\u001b[0m\u001b[37m\u001b[0m \u001b[1m3s\u001b[0m 2ms/step - accuracy: 0.9918 - loss: 0.0263 - val_accuracy: 0.9933 - val_loss: 0.0234\n",
      "Epoch 7/20\n",
      "\u001b[1m1155/1155\u001b[0m \u001b[32m━━━━━━━━━━━━━━━━━━━━\u001b[0m\u001b[37m\u001b[0m \u001b[1m3s\u001b[0m 2ms/step - accuracy: 0.9927 - loss: 0.0226 - val_accuracy: 0.9946 - val_loss: 0.0195\n",
      "Epoch 8/20\n",
      "\u001b[1m1155/1155\u001b[0m \u001b[32m━━━━━━━━━━━━━━━━━━━━\u001b[0m\u001b[37m\u001b[0m \u001b[1m3s\u001b[0m 2ms/step - accuracy: 0.9926 - loss: 0.0228 - val_accuracy: 0.9949 - val_loss: 0.0191\n",
      "Epoch 9/20\n",
      "\u001b[1m1155/1155\u001b[0m \u001b[32m━━━━━━━━━━━━━━━━━━━━\u001b[0m\u001b[37m\u001b[0m \u001b[1m3s\u001b[0m 2ms/step - accuracy: 0.9932 - loss: 0.0218 - val_accuracy: 0.9950 - val_loss: 0.0167\n",
      "Epoch 10/20\n",
      "\u001b[1m1155/1155\u001b[0m \u001b[32m━━━━━━━━━━━━━━━━━━━━\u001b[0m\u001b[37m\u001b[0m \u001b[1m3s\u001b[0m 2ms/step - accuracy: 0.9934 - loss: 0.0206 - val_accuracy: 0.9730 - val_loss: 0.0647\n",
      "Epoch 11/20\n",
      "\u001b[1m1155/1155\u001b[0m \u001b[32m━━━━━━━━━━━━━━━━━━━━\u001b[0m\u001b[37m\u001b[0m \u001b[1m3s\u001b[0m 2ms/step - accuracy: 0.9926 - loss: 0.0221 - val_accuracy: 0.9952 - val_loss: 0.0168\n",
      "Epoch 12/20\n",
      "\u001b[1m1155/1155\u001b[0m \u001b[32m━━━━━━━━━━━━━━━━━━━━\u001b[0m\u001b[37m\u001b[0m \u001b[1m3s\u001b[0m 2ms/step - accuracy: 0.9943 - loss: 0.0180 - val_accuracy: 0.9954 - val_loss: 0.0155\n",
      "Epoch 13/20\n",
      "\u001b[1m1155/1155\u001b[0m \u001b[32m━━━━━━━━━━━━━━━━━━━━\u001b[0m\u001b[37m\u001b[0m \u001b[1m3s\u001b[0m 2ms/step - accuracy: 0.9946 - loss: 0.0169 - val_accuracy: 0.9952 - val_loss: 0.0181\n",
      "Epoch 14/20\n",
      "\u001b[1m1155/1155\u001b[0m \u001b[32m━━━━━━━━━━━━━━━━━━━━\u001b[0m\u001b[37m\u001b[0m \u001b[1m3s\u001b[0m 2ms/step - accuracy: 0.9942 - loss: 0.0182 - val_accuracy: 0.9948 - val_loss: 0.0180\n",
      "Epoch 15/20\n",
      "\u001b[1m1155/1155\u001b[0m \u001b[32m━━━━━━━━━━━━━━━━━━━━\u001b[0m\u001b[37m\u001b[0m \u001b[1m3s\u001b[0m 2ms/step - accuracy: 0.9944 - loss: 0.0161 - val_accuracy: 0.9954 - val_loss: 0.0153\n",
      "Epoch 16/20\n",
      "\u001b[1m1155/1155\u001b[0m \u001b[32m━━━━━━━━━━━━━━━━━━━━\u001b[0m\u001b[37m\u001b[0m \u001b[1m3s\u001b[0m 2ms/step - accuracy: 0.9946 - loss: 0.0158 - val_accuracy: 0.9958 - val_loss: 0.0177\n",
      "Epoch 17/20\n",
      "\u001b[1m1155/1155\u001b[0m \u001b[32m━━━━━━━━━━━━━━━━━━━━\u001b[0m\u001b[37m\u001b[0m \u001b[1m3s\u001b[0m 2ms/step - accuracy: 0.9946 - loss: 0.0163 - val_accuracy: 0.9956 - val_loss: 0.0163\n",
      "Epoch 18/20\n",
      "\u001b[1m1155/1155\u001b[0m \u001b[32m━━━━━━━━━━━━━━━━━━━━\u001b[0m\u001b[37m\u001b[0m \u001b[1m3s\u001b[0m 2ms/step - accuracy: 0.9948 - loss: 0.0168 - val_accuracy: 0.9952 - val_loss: 0.0184\n",
      "Epoch 19/20\n",
      "\u001b[1m1155/1155\u001b[0m \u001b[32m━━━━━━━━━━━━━━━━━━━━\u001b[0m\u001b[37m\u001b[0m \u001b[1m3s\u001b[0m 2ms/step - accuracy: 0.9944 - loss: 0.0160 - val_accuracy: 0.9958 - val_loss: 0.0166\n",
      "Epoch 20/20\n",
      "\u001b[1m1155/1155\u001b[0m \u001b[32m━━━━━━━━━━━━━━━━━━━━\u001b[0m\u001b[37m\u001b[0m \u001b[1m3s\u001b[0m 2ms/step - accuracy: 0.9952 - loss: 0.0149 - val_accuracy: 0.9957 - val_loss: 0.0190\n"
     ]
    }
   ],
   "source": [
    "# Build and compile the model\n",
    "num_features = X_train.shape[1]\n",
    "num_classes = len(np.unique(y))\n",
    "model = build_model(num_features, num_classes)\n",
    "model.compile(optimizer=Adam(0.001), loss=SparseCategoricalCrossentropy(), metrics=['accuracy'])\n",
    "\n",
    "# Training the model\n",
    "history = model.fit(train_dataset, validation_data=val_dataset, epochs=20)"
   ]
  },
  {
   "cell_type": "code",
   "execution_count": 10,
   "id": "4882714d-4883-4028-a0b2-e1dc42476a25",
   "metadata": {},
   "outputs": [],
   "source": [
    "model.save('Tensorflow_IOT_model.keras')"
   ]
  },
  {
   "cell_type": "code",
   "execution_count": 11,
   "id": "6b2d7cd2-5259-49e9-b81d-e0ba2449e593",
   "metadata": {},
   "outputs": [
    {
     "name": "stdout",
     "output_type": "stream",
     "text": [
      "\u001b[1m385/385\u001b[0m \u001b[32m━━━━━━━━━━━━━━━━━━━━\u001b[0m\u001b[37m\u001b[0m \u001b[1m0s\u001b[0m 581us/step - accuracy: 0.9939 - loss: 0.0251\n",
      "Test Loss: 0.0313, Test Accuracy: 0.9944\n"
     ]
    }
   ],
   "source": [
    "# Evaluate the model on the test set\n",
    "test_loss, test_accuracy = model.evaluate(test_dataset)\n",
    "print(f\"Test Loss: {test_loss:.4f}, Test Accuracy: {test_accuracy:.4f}\")"
   ]
  },
  {
   "cell_type": "code",
   "execution_count": 14,
   "id": "132cac02-63e0-46c3-8efd-0f9638f440d7",
   "metadata": {},
   "outputs": [
    {
     "name": "stderr",
     "output_type": "stream",
     "text": [
      "2024-04-15 17:26:04.582102: W tensorflow/core/framework/local_rendezvous.cc:404] Local rendezvous is aborting with status: OUT_OF_RANGE: End of sequence\n"
     ]
    },
    {
     "ename": "NameError",
     "evalue": "name 'labels' is not defined",
     "output_type": "error",
     "traceback": [
      "\u001b[0;31m---------------------------------------------------------------------------\u001b[0m",
      "\u001b[0;31mNameError\u001b[0m                                 Traceback (most recent call last)",
      "Cell \u001b[0;32mIn[14], line 20\u001b[0m\n\u001b[1;32m     18\u001b[0m class_accuracies \u001b[38;5;241m=\u001b[39m evaluate_class_accuracy(model, test_dataset)\n\u001b[1;32m     19\u001b[0m \u001b[38;5;28;01mfor\u001b[39;00m idx, acc \u001b[38;5;129;01min\u001b[39;00m \u001b[38;5;28menumerate\u001b[39m(class_accuracies):\n\u001b[0;32m---> 20\u001b[0m     \u001b[38;5;28mprint\u001b[39m(\u001b[38;5;124mf\u001b[39m\u001b[38;5;124m\"\u001b[39m\u001b[38;5;124mAccuracy of Class \u001b[39m\u001b[38;5;132;01m{\u001b[39;00midx\u001b[38;5;132;01m}\u001b[39;00m\u001b[38;5;124m (\u001b[39m\u001b[38;5;132;01m{\u001b[39;00m\u001b[43mlabels\u001b[49m[idx]\u001b[38;5;132;01m}\u001b[39;00m\u001b[38;5;124m): \u001b[39m\u001b[38;5;132;01m{\u001b[39;00macc\u001b[38;5;132;01m:\u001b[39;00m\u001b[38;5;124m.4f\u001b[39m\u001b[38;5;132;01m}\u001b[39;00m\u001b[38;5;124m\"\u001b[39m)\n",
      "\u001b[0;31mNameError\u001b[0m: name 'labels' is not defined"
     ]
    }
   ],
   "source": [
    "def evaluate_class_accuracy(model, test_dataset):\n",
    "    y_true = []\n",
    "    y_pred = []\n",
    "\n",
    "    # Collect all labels and predictions for the test set\n",
    "    for batch in test_dataset:\n",
    "        x, labels = batch\n",
    "        logits = model(x)\n",
    "        predictions = np.argmax(logits, axis=1)\n",
    "        y_true.extend(labels.numpy())\n",
    "        y_pred.extend(predictions)\n",
    "\n",
    "    # Compute the confusion matrix\n",
    "    cm = confusion_matrix(y_true, y_pred)\n",
    "    class_accuracy = cm.diagonal() / cm.sum(axis=1)  # Accuracy for each class\n",
    "    return class_accuracy\n",
    "\n",
    "class_accuracies = evaluate_class_accuracy(model, test_dataset)\n",
    "for idx, acc in enumerate(class_accuracies):\n",
    "    print(f\"Accuracy of Class {idx} ({labels[idx]}): {acc:.4f}\")"
   ]
  },
  {
   "cell_type": "code",
   "execution_count": null,
   "id": "423f1c89-30eb-407a-9b80-79d0385e60a7",
   "metadata": {},
   "outputs": [],
   "source": [
    "# Extract loss and validation loss from history\n",
    "train_losses = history.history['loss']\n",
    "val_losses = history.history['val_loss']\n",
    "\n",
    "plt.figure(figsize=(10, 5))\n",
    "plt.plot(train_losses, label='Training Loss')\n",
    "plt.plot(val_losses, label='Validation Loss')\n",
    "plt.title('Training and Validation Loss')\n",
    "plt.xlabel('Epoch')\n",
    "plt.ylabel('Loss')\n",
    "plt.legend()\n",
    "plt.grid(True)\n",
    "plt.savefig('train_val_loss.svg', format='svg')\n",
    "plt.show()"
   ]
  },
  {
   "cell_type": "code",
   "execution_count": null,
   "id": "82b0f356-27fe-43ef-a5ec-fa320f0b0a39",
   "metadata": {},
   "outputs": [],
   "source": [
    "# Assuming class_accuracies are calculated and available\n",
    "classes = list(range(len(class_accuracies)))  # Update this if you have specific class names\n",
    "\n",
    "plt.figure(figsize=(12, 6))\n",
    "plt.bar(classes, class_accuracies, color='skyblue')\n",
    "plt.xlabel('Class Labels')\n",
    "plt.ylabel('Accuracy')\n",
    "plt.title('Accuracy for Each Class')\n",
    "plt.xticks(ticks=classes)  # Ensure proper class label names if available\n",
    "plt.grid(True, which='both', linestyle='--', linewidth=0.5)\n",
    "plt.savefig('class_accuracies.svg', format='svg')\n",
    "plt.show()"
   ]
  },
  {
   "cell_type": "code",
   "execution_count": null,
   "id": "98daea62-6f67-4f70-a458-75e1b0365211",
   "metadata": {},
   "outputs": [],
   "source": []
  }
 ],
 "metadata": {
  "kernelspec": {
   "display_name": "Python 3 (ipykernel)",
   "language": "python",
   "name": "python3"
  },
  "language_info": {
   "codemirror_mode": {
    "name": "ipython",
    "version": 3
   },
   "file_extension": ".py",
   "mimetype": "text/x-python",
   "name": "python",
   "nbconvert_exporter": "python",
   "pygments_lexer": "ipython3",
   "version": "3.11.8"
  }
 },
 "nbformat": 4,
 "nbformat_minor": 5
}
